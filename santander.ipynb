{
 "cells": [
  {
   "cell_type": "code",
   "execution_count": 1,
   "metadata": {
    "collapsed": false
   },
   "outputs": [],
   "source": [
    "get_ipython().magic('matplotlib inline')\n",
    "\n",
    "import matplotlib\n",
    "import numpy as np\n",
    "import matplotlib.pyplot as plt\n",
    "\n",
    "from sklearn import cross_validation\n",
    "from sklearn.ensemble import RandomForestClassifier, ExtraTreesClassifier, GradientBoostingClassifier\n",
    "from sklearn.linear_model import LogisticRegression\n",
    "from sklearn.cross_validation import train_test_split\n",
    "from sklearn.metrics import roc_curve, auc\n",
    "from sklearn.feature_selection import SelectKBest, chi2, f_classif\n",
    "from sklearn.svm import SVC\n",
    "import pylab as pl\n",
    "import xgboost as xgb\n",
    "\n",
    "from functools import reduce"
   ]
  },
  {
   "cell_type": "code",
   "execution_count": 2,
   "metadata": {
    "collapsed": true
   },
   "outputs": [],
   "source": [
    "def itercols(dataframe):\n",
    "    for col in dataframe.columns:\n",
    "        yield (col, dataframe[col])"
   ]
  },
  {
   "cell_type": "code",
   "execution_count": 3,
   "metadata": {
    "collapsed": true
   },
   "outputs": [],
   "source": [
    "RAND_SEED = 65535\n",
    "KCV = 5"
   ]
  },
  {
   "cell_type": "code",
   "execution_count": 4,
   "metadata": {
    "collapsed": true
   },
   "outputs": [],
   "source": [
    "from pandas import read_csv, DataFrame, Series\n",
    "data = read_csv('~/kaggle/santander/train.csv')"
   ]
  },
  {
   "cell_type": "code",
   "execution_count": 5,
   "metadata": {
    "collapsed": false
   },
   "outputs": [
    {
     "data": {
      "text/plain": [
       "Series([], dtype: int64)"
      ]
     },
     "execution_count": 5,
     "metadata": {},
     "output_type": "execute_result"
    }
   ],
   "source": [
    "cdata = data.drop(['ID', 'TARGET'], axis = 1)\n",
    "cdata[[kv[0] for kv in filter(lambda kv: kv[1], cdata.mean().isnull().items())]].count()"
   ]
  },
  {
   "cell_type": "code",
   "execution_count": 6,
   "metadata": {
    "collapsed": false
   },
   "outputs": [
    {
     "name": "stdout",
     "output_type": "stream",
     "text": [
      "Constant features:  ['ind_var2_0', 'ind_var2', 'ind_var27_0', 'ind_var28_0', 'ind_var28', 'ind_var27', 'ind_var41', 'ind_var46_0', 'ind_var46', 'num_var27_0', 'num_var28_0', 'num_var28', 'num_var27', 'num_var41', 'num_var46_0', 'num_var46', 'saldo_var28', 'saldo_var27', 'saldo_var41', 'saldo_var46', 'imp_amort_var18_hace3', 'imp_amort_var34_hace3', 'imp_reemb_var13_hace3', 'imp_reemb_var33_hace3', 'imp_trasp_var17_out_hace3', 'imp_trasp_var33_out_hace3', 'num_var2_0_ult1', 'num_var2_ult1', 'num_reemb_var13_hace3', 'num_reemb_var33_hace3', 'num_trasp_var17_out_hace3', 'num_trasp_var33_out_hace3', 'saldo_var2_ult1', 'saldo_medio_var13_medio_hace3']\n"
     ]
    }
   ],
   "source": [
    "#removing constant features\n",
    "constant_features = []\n",
    "for col in cdata.columns:\n",
    "    if (np.abs(cdata[col].std()) < 1e-10):\n",
    "        constant_features += [col]\n",
    "        \n",
    "print(\"Constant features: \", constant_features)\n",
    "cdata = cdata.drop(constant_features, axis = 1)"
   ]
  },
  {
   "cell_type": "code",
   "execution_count": 7,
   "metadata": {
    "collapsed": true
   },
   "outputs": [],
   "source": [
    "#log scaling features with higher than criterion_to_log difference between min and max\n",
    "criterion_to_log = 1e2\n",
    "cols_to_log = [kv[0] for kv in filter(lambda nc: np.abs(nc[1].min() - nc[1].max()) > criterion_to_log, itercols(cdata))]\n",
    "offsets = {}\n",
    "for col in cols_to_log:\n",
    "    offset = np.abs(cdata[col]).max() + np.exp(1)\n",
    "    offsets[col] = offset\n",
    "    cdata[col] = np.log(cdata[col] + offset)"
   ]
  },
  {
   "cell_type": "code",
   "execution_count": 8,
   "metadata": {
    "collapsed": false
   },
   "outputs": [],
   "source": [
    "means = {}\n",
    "deviations = {}\n",
    "\n",
    "for col in cdata.columns:\n",
    "    ser = cdata[col]\n",
    "    \n",
    "    mean = ser.mean()\n",
    "    if np.abs(mean) < 1e-10:\n",
    "        continue\n",
    "    \n",
    "    dev = ser.std()\n",
    "    if np.abs(dev) < 1e-10:\n",
    "        continue\n",
    "    \n",
    "    means[col] = mean\n",
    "    deviations[col] = dev\n",
    "    \n",
    "    cdata[col] = (ser - mean) / dev"
   ]
  },
  {
   "cell_type": "code",
   "execution_count": 9,
   "metadata": {
    "collapsed": false
   },
   "outputs": [],
   "source": [
    "#removing identical features\n",
    "identical_feature_groups = {}\n",
    "idx_to_skip = []\n",
    "for idx1, col1 in enumerate(cdata.columns):\n",
    "    if idx1 in idx_to_skip:\n",
    "        continue\n",
    "    identical_feature_groups[col1] = []\n",
    "    for idx2, col2 in enumerate(cdata.columns[idx1 + 1:]):\n",
    "        if all(map(lambda x: x < 1e-10, np.abs(cdata[col1] - cdata[col2]))):\n",
    "            identical_feature_groups[col1] += [col2]\n",
    "            idx_to_skip += [idx2]"
   ]
  },
  {
   "cell_type": "code",
   "execution_count": null,
   "metadata": {
    "collapsed": false
   },
   "outputs": [],
   "source": [
    "id_grp = dict(filter(lambda kv: len(kv[1]) > 0, identical_feature_groups.items()))\n",
    "print(\"Identical groups:\")\n",
    "for k, v in id_grp.items():\n",
    "    print(\"{0:30} | {1}\".format(k, ', '.join(v)))"
   ]
  },
  {
   "cell_type": "code",
   "execution_count": 10,
   "metadata": {
    "collapsed": false
   },
   "outputs": [
    {
     "name": "stdout",
     "output_type": "stream",
     "text": [
      "Removed identical features:  ['delta_num_trasp_var17_in_1y3', 'delta_num_reemb_var13_1y3', 'saldo_var29', 'ind_var26', 'num_var40', 'num_var39', 'delta_num_trasp_var33_in_1y3', 'saldo_medio_var13_medio_ult1', 'ind_var29_0', 'num_var6_0', 'num_var29_0', 'num_var34', 'ind_var25', 'num_var37', 'ind_var13_medio', 'num_var13_medio_0', 'num_var13_medio', 'num_meses_var13_medio_ult3', 'delta_num_reemb_var17_1y3', 'ind_var32', 'delta_num_trasp_var17_out_1y3', 'num_var26', 'num_meses_var13_medio_ult3', 'ind_var34', 'num_var34_0', 'num_var34', 'num_var44', 'num_var29_0', 'ind_var29', 'num_var32', 'ind_var18', 'num_var18_0', 'num_var18', 'num_var13_medio_0', 'num_var13_medio', 'num_meses_var13_medio_ult3', 'ind_var39', 'num_var40', 'num_var39', 'delta_num_reemb_var33_1y3', 'delta_num_trasp_var33_out_1y3', 'num_var20_0', 'num_var18', 'num_var29', 'num_var8', 'num_var18_0', 'num_var18', 'ind_var37', 'num_var20', 'num_var13_medio', 'num_meses_var13_medio_ult3', 'num_var6_0', 'num_var29_0', 'num_var39', 'num_var25']\n"
     ]
    }
   ],
   "source": [
    "identical_features = list(reduce(lambda x, y: x + y, identical_feature_groups.values()))\n",
    "cdata = cdata.drop(identical_features, axis = 1)\n",
    "\n",
    "print(\"Removed identical features: \", identical_features)"
   ]
  },
  {
   "cell_type": "code",
   "execution_count": 11,
   "metadata": {
    "collapsed": false
   },
   "outputs": [],
   "source": [
    "testdata = read_csv('~/kaggle/santander/test.csv')\n",
    "ctestdata = testdata.drop(['ID'], axis=1)"
   ]
  },
  {
   "cell_type": "code",
   "execution_count": 12,
   "metadata": {
    "collapsed": false
   },
   "outputs": [],
   "source": [
    "#removing constant and identical features by constant_features and identical_features respectively\n",
    "ctestdata = ctestdata.drop(constant_features + identical_features, axis = 1)"
   ]
  },
  {
   "cell_type": "code",
   "execution_count": 13,
   "metadata": {
    "collapsed": false
   },
   "outputs": [],
   "source": [
    "#log scaling test samle\n",
    "for col in cols_to_log:\n",
    "    if col in ctestdata.columns:\n",
    "        offset = offsets[col]\n",
    "        ctestdata[col] = np.log(ctestdata[col] + offset)"
   ]
  },
  {
   "cell_type": "code",
   "execution_count": 14,
   "metadata": {
    "collapsed": true
   },
   "outputs": [],
   "source": [
    "#standardizing\n",
    "for col in means:\n",
    "    if col in ctestdata.columns:\n",
    "        mean, dev = means[col], deviations[col]\n",
    "        ctestdata[col] = (ctestdata[col] - mean) / dev"
   ]
  },
  {
   "cell_type": "code",
   "execution_count": 15,
   "metadata": {
    "collapsed": false
   },
   "outputs": [],
   "source": [
    "Y = data['TARGET']\n",
    "X = cdata"
   ]
  },
  {
   "cell_type": "code",
   "execution_count": 16,
   "metadata": {
    "collapsed": true
   },
   "outputs": [],
   "source": [
    "X_train, X_test, y_train, y_test = train_test_split(X, Y, test_size = 0.2, random_state = RAND_SEED)"
   ]
  },
  {
   "cell_type": "code",
   "execution_count": null,
   "metadata": {
    "collapsed": false
   },
   "outputs": [],
   "source": [
    "#feature selection\n",
    "#N_FEATURES_TO_SELECT = cdata.shape[1] // 2\n",
    "#fc = SelectKBest(f_classif, k = N_FEATURES_TO_SELECT)\n",
    "#X_train = DataFrame(fc.fit_transform(X_train, y_train))\n",
    "#X_test = DataFrame(fc.transform(X_test))"
   ]
  },
  {
   "cell_type": "code",
   "execution_count": 17,
   "metadata": {
    "collapsed": false
   },
   "outputs": [],
   "source": [
    "model_xgb = xgb.XGBClassifier(\\\n",
    "    nthread = -1,\\\n",
    "    n_estimators = 560,\\\n",
    "    max_depth = 5,\\\n",
    "    learning_rate = 0.0202048,\\\n",
    "    min_child_weight = 9,\\\n",
    "    subsample = 0.68155,\\\n",
    "    gamma = 0.66,\\\n",
    "    colsample_bytree = 0.7012,\\\n",
    "    seed = RAND_SEED,\\\n",
    ")\n",
    "\n",
    "model_rfc = RandomForestClassifier(n_estimators = 1000, n_jobs = -1, random_state = RAND_SEED)\n",
    "model_etc = ExtraTreesClassifier(n_estimators = 1000, n_jobs = -1, bootstrap = True, class_weight = 'balanced', random_state = RAND_SEED)"
   ]
  },
  {
   "cell_type": "code",
   "execution_count": 21,
   "metadata": {
    "collapsed": true
   },
   "outputs": [],
   "source": [
    "cvd = {}\n",
    "scores = cross_validation.cross_val_score(model_rfc, X_train, y_train, cv = KCV, n_jobs = -1)\n",
    "cvd['RandomForestClassifier'] = scores"
   ]
  },
  {
   "cell_type": "code",
   "execution_count": 24,
   "metadata": {
    "collapsed": false
   },
   "outputs": [],
   "source": [
    "scores = cross_validation.cross_val_score(model_etc, X_train, y_train, cv = KCV, n_jobs = -1)\n",
    "cvd['ExtraTreesClassifier'] = scores"
   ]
  },
  {
   "cell_type": "code",
   "execution_count": 22,
   "metadata": {
    "collapsed": true
   },
   "outputs": [],
   "source": [
    "scores = cross_validation.cross_val_score(model_xgb, X_train, y_train, cv = KCV, n_jobs = -1)\n",
    "cvd['XGBClassifier'] = scores"
   ]
  },
  {
   "cell_type": "code",
   "execution_count": 25,
   "metadata": {
    "collapsed": false
   },
   "outputs": [
    {
     "data": {
      "image/png": "[encoded data removed]",
      "text/plain": [
       "<matplotlib.figure.Figure at 0x7f4213ca9e48>"
      ]
     },
     "metadata": {},
     "output_type": "display_data"
    },
    {
     "name": "stdout",
     "output_type": "stream",
     "text": [
      "Scores =  [ 0.94393292  0.93883088  0.94244841  0.94055743  0.94450382]\n"
     ]
    }
   ],
   "source": [
    "pl.clf()\n",
    "pl.plot(range(len(scores)), cvd['RandomForestClassifier'], label = \"RF\")\n",
    "pl.plot(range(len(scores)), cvd['ExtraTreesClassifier'], label = \"ET\")\n",
    "pl.plot(range(len(scores)), cvd['XGBClassifier'], label = \"XGB\")\n",
    "pl.xlabel('# Fold')\n",
    "pl.ylabel('Cross-validation')\n",
    "pl.legend(loc = 0, fontsize = 'small')\n",
    "pl.show()\n",
    "\n",
    "print(\"Scores = \", scores)"
   ]
  },
  {
   "cell_type": "code",
   "execution_count": 26,
   "metadata": {
    "collapsed": false
   },
   "outputs": [],
   "source": [
    "#stacking preparation\n",
    "cdata['TARGET'] = data['TARGET']\n",
    "cdata_shuffled = cdata.iloc(np.random.permutation(len(X_train)))[:].copy(deep = True).reset_index(drop = True)\n",
    "validate_sz = int(0.2 * len(cdata))\n",
    "Xy_validate = cdata_shuffled[-validate_sz:]\n",
    "Xy_train = cdata_shuffled[:-validate_sz]\n",
    "\n",
    "X_validate, y_validate = Xy_validate.drop(['TARGET'], axis = 1), Xy_validate['TARGET']\n",
    "X_train, y_train = Xy_train.drop(['TARGET'], axis = 1), Xy_train['TARGET']"
   ]
  },
  {
   "cell_type": "code",
   "execution_count": 32,
   "metadata": {
    "collapsed": false
   },
   "outputs": [],
   "source": [
    "#stacking layer 0\n",
    "cls0 = {'RF' : model_rfc, 'XGB' : model_xgb} #'ET' : model_etc\n",
    "DS0 = []\n",
    "\n",
    "size = len(Xy_train) // len(cls0)\n",
    "for i in range(len(cls0) - 1):\n",
    "    DS0 += [Xy_train.ix[i*size : (i+1)*size - 1, :]]\n",
    "DS0 += [Xy_train.ix[(len(cls0) - 1)*size :, :]]\n",
    "\n",
    "L0_train_data_d = {}\n",
    "L0_test_data_d = {}\n",
    "L0_fitted_cls_d = {}\n",
    "for i, (cl_name, cl) in enumerate(cls0.items()):\n",
    "    fitted_cl = cl.fit(DS0[i].drop('TARGET', axis = 1), DS0[i]['TARGET'])\n",
    "    L0_fitted_cls_d[cl_name] = fitted_cl\n",
    "    L0_train_data_d[cl_name] = fitted_cl.predict_proba(X_train)[:, 1]\n",
    "    L0_test_data_d[cl_name] = fitted_cl.predict_proba(X_validate)[:, 1]\n",
    "    \n",
    "L0_train_data = DataFrame.from_dict(L0_train_data_d)\n",
    "L0_train_data['TARGET'] = y_train\n",
    "\n",
    "L0_test_data = DataFrame.from_dict(L0_test_data_d)\n",
    "L0_test_data['TARGET'] = y_validate"
   ]
  },
  {
   "cell_type": "code",
   "execution_count": 33,
   "metadata": {
    "collapsed": false
   },
   "outputs": [
    {
     "data": {
      "image/png": "[encoded data removed]",
      "text/plain": [
       "<matplotlib.figure.Figure at 0x7f42127fa080>"
      ]
     },
     "metadata": {},
     "output_type": "display_data"
    },
    {
     "data": {
      "image/png": "[encoded data removed]",
      "text/plain": [
       "<matplotlib.figure.Figure at 0x7f421273a278>"
      ]
     },
     "metadata": {},
     "output_type": "display_data"
    }
   ],
   "source": [
    "#layer 0 roc auc\n",
    "pl.clf()\n",
    "\n",
    "for name, P in L0_train_data_d.items():\n",
    "    fpr, tpr, thresholds = roc_curve(y_train, P)\n",
    "    roc_auc = auc(fpr, tpr)\n",
    "    pl.plot(fpr, tpr, label = '%s ROC (area = %0.2f)' % ('Layer 2: {0}'.format(name), roc_auc))\n",
    "    \n",
    "pl.xlabel('False Positive Rate')\n",
    "pl.ylabel('True Positive Rate')\n",
    "pl.legend(loc=0, fontsize='small')\n",
    "pl.show()\n",
    "\n",
    "#\n",
    "\n",
    "pl.clf()\n",
    "\n",
    "for name, P in L0_test_data_d.items():\n",
    "    fpr, tpr, thresholds = roc_curve(y_validate, P)\n",
    "    roc_auc = auc(fpr, tpr)\n",
    "    pl.plot(fpr, tpr, label = '%s ROC (area = %0.2f)' % ('Layer 2: {0}'.format(name), roc_auc))\n",
    "\n",
    "pl.xlabel('False Positive Rate')\n",
    "pl.ylabel('True Positive Rate')\n",
    "pl.legend(loc=0, fontsize='small')\n",
    "pl.show()"
   ]
  },
  {
   "cell_type": "code",
   "execution_count": 34,
   "metadata": {
    "collapsed": false
   },
   "outputs": [],
   "source": [
    "#stacking layer 1\n",
    "model_l1 = xgb.XGBClassifier(\\\n",
    "    nthread = -1,\\\n",
    "    n_estimators = 1000,\\\n",
    "    max_depth = 2,\\\n",
    "    learning_rate = 0.02,\\\n",
    "    subsample = 0.68155,\\\n",
    "    gamma = 0.66,\\\n",
    "    colsample_bytree = 0.7012,\\\n",
    "    seed = RAND_SEED,\\\n",
    ")\n",
    "fitted_l1 = model_l1.fit(L0_train_data.drop('TARGET', axis = 1), L0_train_data['TARGET'])\n",
    "l1_probas = fitted_l1.predict_proba(L0_test_data.drop('TARGET', axis = 1))"
   ]
  },
  {
   "cell_type": "code",
   "execution_count": 35,
   "metadata": {
    "collapsed": false
   },
   "outputs": [
    {
     "data": {
      "image/png": "[encoded data removed]",
      "text/plain": [
       "<matplotlib.figure.Figure at 0x7f42127f2b70>"
      ]
     },
     "metadata": {},
     "output_type": "display_data"
    }
   ],
   "source": [
    "#layer 1 roc auc\n",
    "pl.clf()\n",
    "\n",
    "fpr, tpr, thresholds = roc_curve(y_validate, l1_probas[:, 1])\n",
    "roc_auc = auc(fpr, tpr)\n",
    "pl.plot(fpr, tpr, label = '%s ROC (area = %0.2f)' % ('Layer 2: LR', roc_auc))\n",
    "\n",
    "pl.xlabel('False Positive Rate')\n",
    "pl.ylabel('True Positive Rate')\n",
    "pl.legend(loc=0, fontsize='small')\n",
    "pl.show()"
   ]
  },
  {
   "cell_type": "code",
   "execution_count": 31,
   "metadata": {
    "collapsed": false
   },
   "outputs": [],
   "source": [
    "#predicting submission\n",
    "result = DataFrame(testdata['ID'])\n",
    "\n",
    "L0_preds_d = {}\n",
    "for name, cl in cls0.items():\n",
    "    L0_preds_d[name] = L0_fitted_cls_d[name].predict_proba(ctestdata)[:, 1]\n",
    "L0_data_d = DataFrame.from_dict(L0_preds_d)\n",
    "res_probas = model_l1.predict_proba(L0_data_d)[:, 1]\n",
    "    \n",
    "result.insert(1,'TARGET', res_probas)\n",
    "result.to_csv('~/ml/kaggle_santander_happy_customers/res_xgb.csv', index = False)"
   ]
  }
 ],
 "metadata": {
  "kernelspec": {
   "display_name": "Python 3",
   "language": "python",
   "name": "python3"
  },
  "language_info": {
   "codemirror_mode": {
    "name": "ipython",
    "version": 3
   },
   "file_extension": ".py",
   "mimetype": "text/x-python",
   "name": "python",
   "nbconvert_exporter": "python",
   "pygments_lexer": "ipython3",
   "version": "3.5.1"
  }
 },
 "nbformat": 4,
 "nbformat_minor": 0
}

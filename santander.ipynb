{
 "cells": [
  {
   "cell_type": "code",
   "execution_count": null,
   "metadata": {
    "collapsed": true
   },
   "outputs": [],
   "source": [
    "get_ipython().magic('matplotlib inline')\n",
    "\n",
    "import matplotlib\n",
    "import numpy as np\n",
    "import matplotlib.pyplot as plt"
   ]
  },
  {
   "cell_type": "code",
   "execution_count": null,
   "metadata": {
    "collapsed": false
   },
   "outputs": [],
   "source": [
    "from sklearn import cross_validation, svm\n",
    "from sklearn.neighbors import KNeighborsClassifier\n",
    "from sklearn.ensemble import RandomForestClassifier, GradientBoostingClassifier\n",
    "from sklearn.linear_model import LogisticRegression\n",
    "from sklearn.cross_validation import train_test_split\n",
    "from sklearn.metrics import roc_curve, auc\n",
    "import pylab as pl\n",
    "import xgboost as xgb\n",
    "\n",
    "from functools import reduce"
   ]
  },
  {
   "cell_type": "code",
   "execution_count": null,
   "metadata": {
    "collapsed": true
   },
   "outputs": [],
   "source": [
    "def itercols(dataframe):\n",
    "    for col in dataframe.columns:\n",
    "        yield (col, dataframe[col])"
   ]
  },
  {
   "cell_type": "code",
   "execution_count": null,
   "metadata": {
    "collapsed": true
   },
   "outputs": [],
   "source": [
    "RAND_SEED = 111398"
   ]
  },
  {
   "cell_type": "code",
   "execution_count": null,
   "metadata": {
    "collapsed": true
   },
   "outputs": [],
   "source": [
    "from pandas import read_csv, DataFrame, Series\n",
    "data = read_csv('~/kaggle/santander/train.csv')"
   ]
  },
  {
   "cell_type": "code",
   "execution_count": null,
   "metadata": {
    "collapsed": false
   },
   "outputs": [],
   "source": [
    "cdata = data.drop(['ID', 'TARGET'], axis=1)\n",
    "cdata[[kv[0] for kv in filter(lambda kv: kv[1], cdata.mean().isnull().items())]].count()"
   ]
  },
  {
   "cell_type": "code",
   "execution_count": null,
   "metadata": {
    "collapsed": false
   },
   "outputs": [],
   "source": [
    "#log scaling features with higher than criterion_to_log difference between min and max\n",
    "criterion_to_log = 1e2\n",
    "cols_to_log = [kv[0] for kv in filter(lambda nc: np.abs(nc[1].min() - nc[1].max()) > criterion_to_log, itercols(cdata))]\n",
    "offsets = {}\n",
    "for col in cols_to_log:\n",
    "    offset = np.abs(cdata[col]).max() + np.exp(1)\n",
    "    offsets[col] = offset\n",
    "    cdata[col] = np.log(cdata[col] + offset)# - np.log(offset)"
   ]
  },
  {
   "cell_type": "code",
   "execution_count": null,
   "metadata": {
    "collapsed": false
   },
   "outputs": [],
   "source": [
    "#feature scaling\n",
    "#from sklearn import preprocessing\n",
    "\n",
    "#for col in cdata.columns:\n",
    "#    cdata[col] = preprocessing.StandardScaler().fit_transform(np.array(cdata[col]).astype(np.float64).reshape(-1,1))\n",
    "\n",
    "means = {}\n",
    "deviations = {}\n",
    "\n",
    "for col in cdata.columns:\n",
    "    ser = cdata[col]\n",
    "    \n",
    "    mean = ser.mean()\n",
    "    if np.abs(mean) < 1e-10:\n",
    "        continue\n",
    "    \n",
    "    dev = ser.std(ddof=1)\n",
    "    if np.abs(dev) < 1e-10:\n",
    "        continue\n",
    "    \n",
    "    #print(\"mean = \", mean, \" dev = \", dev, \"\\n\")\n",
    "    \n",
    "    means[col] = mean\n",
    "    deviations[col] = dev\n",
    "    \n",
    "    cdata[col] = (ser - mean) / dev"
   ]
  },
  {
   "cell_type": "code",
   "execution_count": null,
   "metadata": {
    "collapsed": false
   },
   "outputs": [],
   "source": [
    "testdata = read_csv('~/kaggle/santander/test.csv')\n",
    "ctestdata = testdata.drop(['ID'], axis=1)"
   ]
  },
  {
   "cell_type": "code",
   "execution_count": null,
   "metadata": {
    "collapsed": true
   },
   "outputs": [],
   "source": [
    "#log scaling test samle\n",
    "for col in cols_to_log:\n",
    "    offset = offsets[col]\n",
    "    ctestdata[col] = np.log(ctestdata[col] + offset)# - np.log(offset)"
   ]
  },
  {
   "cell_type": "code",
   "execution_count": null,
   "metadata": {
    "collapsed": true
   },
   "outputs": [],
   "source": [
    "#standardizing\n",
    "for col in means:\n",
    "    mean, dev = means[col], deviations[col]\n",
    "    ctestdata[col] = (ctestdata[col] - mean) / dev"
   ]
  },
  {
   "cell_type": "code",
   "execution_count": null,
   "metadata": {
    "collapsed": false
   },
   "outputs": [],
   "source": [
    "Y = data['TARGET']\n",
    "X = cdata"
   ]
  },
  {
   "cell_type": "code",
   "execution_count": null,
   "metadata": {
    "collapsed": true
   },
   "outputs": [],
   "source": [
    "X_train, _, y_train, _ = train_test_split(X, Y, test_size = 0.2, random_state = RAND_SEED)"
   ]
  },
  {
   "cell_type": "code",
   "execution_count": null,
   "metadata": {
    "collapsed": false
   },
   "outputs": [],
   "source": [
    "#feature count reduction\n",
    "#rfc = RandomForestClassifier(n_estimators = 1000, n_jobs = -1, random_state = 42)\n",
    "#rf_tr = rfc.fit(X_train, y_train)\n",
    "\n",
    "#cdata = DataFrame(rf_tr.transform(cdata))\n",
    "#ctestdata = DataFrame(rf_tr.transform(ctestdata))\n",
    "\n",
    "#X_train, X_test, y_train, y_test = train_test_split(X, Y, test_size = 0.2, random_state = 42)"
   ]
  },
  {
   "cell_type": "code",
   "execution_count": null,
   "metadata": {
    "collapsed": false
   },
   "outputs": [],
   "source": [
    "#model_rfc = RandomForestClassifier(n_estimators = 1000, n_jobs = -1)\n",
    "model_xgb = xgb.XGBClassifier(\\\n",
    "    max_depth = 7,\\\n",
    "    n_estimators = 100,\\\n",
    "    learning_rate = 0.1,\\\n",
    "    colsample_bytree = 0.85,\\\n",
    "    min_child_weight = 3,\\\n",
    "    nthread = -1,\\\n",
    ")"
   ]
  },
  {
   "cell_type": "code",
   "execution_count": null,
   "metadata": {
    "collapsed": false
   },
   "outputs": [],
   "source": [
    "kcv = 5\n",
    "cvd = {}\n",
    "\n",
    "#scores = cross_validation.cross_val_score(model_rfc, X_train, y_train, cv = kcv)\n",
    "#cvd['RandomForestClassifier'] = scores\n",
    "\n",
    "scores = cross_validation.cross_val_score(model_xgb, X_train, y_train, cv = kcv)\n",
    "#cvd['XGBClassifier'] = scores\n",
    "\n",
    "#plt.plot(range(len(scores)), cvd['RandomForestClassifier'], 'b', range(len(scores)), cvd['XGBClassifier'], 'r')\n",
    "plt.plot(range(len(scores)), scores, 'r')\n",
    "plt.show()"
   ]
  },
  {
   "cell_type": "code",
   "execution_count": null,
   "metadata": {
    "collapsed": false
   },
   "outputs": [],
   "source": [
    "scores"
   ]
  },
  {
   "cell_type": "code",
   "execution_count": null,
   "metadata": {
    "collapsed": false
   },
   "outputs": [],
   "source": [
    "pl.clf()\n",
    "\n",
    "#rf_probas = model_rfc.fit(X_train, y_train).predict_proba(X_test)\n",
    "#fpr, tpr, thresholds = roc_curve(y_test, rf_probas[:, 1])\n",
    "#roc_auc  = auc(fpr, tpr)\n",
    "#pl.plot(fpr, tpr, label='%s ROC (area = %0.2f)' % ('RandomForest',roc_auc))\n",
    "\n",
    "gb_probas = model_xgb.fit(X_train, y_train).predict_proba(X_test)\n",
    "fpr, tpr, thresholds = roc_curve(y_test, gb_probas[:, 1])\n",
    "roc_auc  = auc(fpr, tpr)\n",
    "pl.plot(fpr, tpr, label='%s ROC (area = %0.2f)' % ('GradientBoosting',roc_auc))\n",
    "\n",
    "#rf_gb_probas = np.maximum(rf_probas, gb_probas)\n",
    "#fpr, tpr, thresholds = roc_curve(y_test, rf_gb_probas[:, 1])\n",
    "#roc_auc  = auc(fpr, tpr)\n",
    "#pl.plot(fpr, tpr, label='%s ROC (area = %0.2f)' % ('RF + GB',roc_auc))\n",
    "\n",
    "pl.xlabel('False Positive Rate')\n",
    "pl.ylabel('True Positive Rate')\n",
    "pl.legend(loc=0, fontsize='small')\n",
    "pl.show()"
   ]
  },
  {
   "cell_type": "code",
   "execution_count": null,
   "metadata": {
    "collapsed": false
   },
   "outputs": [],
   "source": [
    "result = DataFrame(testdata['ID'])\n",
    "pred_xgb = model_xgb.fit(X, Y).predict_proba(ctestdata)[:, 1]\n",
    "result.insert(1,'TARGET', pred_xgb)\n",
    "result.to_csv('~/ml/kaggle_santander_happy_customers/res_xgb.csv', index=False)\n",
    "\n",
    "#result = DataFrame(testdata['ID'])\n",
    "#pred_rfc = model_rfc.fit(X, Y).predict_proba(ctestdata)[:, 1]\n",
    "#result.insert(1,'TARGET', pred_rfc)\n",
    "#result.to_csv('~/ml/kaggle_santander_happy_customers/res_rf.csv', index=False)\n",
    "\n",
    "#result = DataFrame(testdata['ID'])\n",
    "#result.insert(1,'TARGET', (pred_xgb + pred_rfc) / 2)\n",
    "#result.to_csv('~/ml/kaggle_santander_happy_customers/res_xgb_rf.csv', index=False)"
   ]
  }
 ],
 "metadata": {
  "kernelspec": {
   "display_name": "Python 3",
   "language": "python",
   "name": "python3"
  },
  "language_info": {
   "codemirror_mode": {
    "name": "ipython",
    "version": 3
   },
   "file_extension": ".py",
   "mimetype": "text/x-python",
   "name": "python",
   "nbconvert_exporter": "python",
   "pygments_lexer": "ipython3",
   "version": "3.5.1"
  }
 },
 "nbformat": 4,
 "nbformat_minor": 0
}

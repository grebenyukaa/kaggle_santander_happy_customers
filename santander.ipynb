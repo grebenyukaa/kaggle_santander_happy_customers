{
 "cells": [
  {
   "cell_type": "code",
   "execution_count": 1,
   "metadata": {
    "collapsed": true
   },
   "outputs": [],
   "source": [
    "get_ipython().magic('matplotlib inline')\n",
    "\n",
    "import matplotlib\n",
    "import numpy as np\n",
    "import matplotlib.pyplot as plt"
   ]
  },
  {
   "cell_type": "code",
   "execution_count": 2,
   "metadata": {
    "collapsed": false
   },
   "outputs": [],
   "source": [
    "from sklearn import cross_validation, svm\n",
    "from sklearn.neighbors import KNeighborsClassifier\n",
    "from sklearn.ensemble import RandomForestClassifier, GradientBoostingClassifier\n",
    "from sklearn.linear_model import LogisticRegression\n",
    "from sklearn.cross_validation import train_test_split\n",
    "from sklearn.metrics import roc_curve, auc\n",
    "import pylab as pl\n",
    "import xgboost as xgb\n",
    "\n",
    "from functools import reduce"
   ]
  },
  {
   "cell_type": "code",
   "execution_count": 3,
   "metadata": {
    "collapsed": true
   },
   "outputs": [],
   "source": [
    "def itercols(dataframe):\n",
    "    for col in dataframe.columns:\n",
    "        yield (col, dataframe[col])"
   ]
  },
  {
   "cell_type": "code",
   "execution_count": 4,
   "metadata": {
    "collapsed": true
   },
   "outputs": [],
   "source": [
    "from pandas import read_csv, DataFrame, Series\n",
    "data = read_csv('~/kaggle/santander/train.csv')"
   ]
  },
  {
   "cell_type": "code",
   "execution_count": 5,
   "metadata": {
    "collapsed": false
   },
   "outputs": [
    {
     "data": {
      "text/plain": [
       "Series([], dtype: int64)"
      ]
     },
     "execution_count": 5,
     "metadata": {},
     "output_type": "execute_result"
    }
   ],
   "source": [
    "cdata = data.drop(['ID', 'TARGET'], axis=1)\n",
    "cdata[[kv[0] for kv in filter(lambda kv: kv[1], cdata.mean().isnull().items())]].count()"
   ]
  },
  {
   "cell_type": "code",
   "execution_count": 6,
   "metadata": {
    "collapsed": false
   },
   "outputs": [],
   "source": [
    "#log scaling features with higher than criterion_to_log difference between min and max\n",
    "criterion_to_log = 1e4\n",
    "cols_to_log = [kv[0] for kv in filter(lambda nc: np.abs(nc[1].min() - nc[1].max()) > criterion_to_log, itercols(cdata))]\n",
    "offsets = {}\n",
    "for col in cols_to_log:\n",
    "    offset = np.abs(cdata[col]).max() + 1\n",
    "    offsets[col] = offset\n",
    "    cdata[col] = np.log(cdata[col] + offset) - np.log(offset)"
   ]
  },
  {
   "cell_type": "code",
   "execution_count": null,
   "metadata": {
    "collapsed": false
   },
   "outputs": [],
   "source": [
    "#feature scaling\n",
    "from sklearn import preprocessing\n",
    "\n",
    "for col in cdata.columns:\n",
    "    cdata[col] = preprocessing.StandardScaler().fit_transform(np.array(cdata[col]).astype(np.float64).reshape(-1,1))"
   ]
  },
  {
   "cell_type": "code",
   "execution_count": null,
   "metadata": {
    "collapsed": false
   },
   "outputs": [],
   "source": [
    "anyNaN = reduce(lambda x,y: x and y, [reduce(lambda x,y: x or y, cdata[col].isnull()) for col in cdata.columns])"
   ]
  },
  {
   "cell_type": "code",
   "execution_count": null,
   "metadata": {
    "collapsed": false
   },
   "outputs": [],
   "source": [
    "anyInf = reduce(lambda x,y: x and y, [reduce(lambda x,y: x or y, map(lambda z: z in [np.inf, -np.inf], cdata[col])) for col in cdata.columns])"
   ]
  },
  {
   "cell_type": "code",
   "execution_count": null,
   "metadata": {
    "collapsed": false
   },
   "outputs": [],
   "source": [
    "anyLarge = reduce(lambda x,y: x and y, [reduce(lambda x,y: x or y, map(lambda z: z >= np.finfo(np.float32).max, cdata[col])) for col in cdata.columns])"
   ]
  },
  {
   "cell_type": "code",
   "execution_count": null,
   "metadata": {
    "collapsed": false
   },
   "outputs": [],
   "source": [
    "print(anyNaN, anyInf, anyLarge)"
   ]
  },
  {
   "cell_type": "code",
   "execution_count": null,
   "metadata": {
    "collapsed": false
   },
   "outputs": [],
   "source": [
    "#throw away columns, where >= 80% of values is median\n",
    "#cdata = data\n",
    "#for col in cdata.columns[1:-1]:\n",
    "#    ser = cdata[col]\n",
    "#    cnt = ser.value_counts()\n",
    "#    med = ser.median()\n",
    "#    if cnt[med]/len(ser) >= 0.80:\n",
    "#        cdata = cdata.drop([col], axis=1)"
   ]
  },
  {
   "cell_type": "code",
   "execution_count": 7,
   "metadata": {
    "collapsed": false
   },
   "outputs": [],
   "source": [
    "Y = data['TARGET']\n",
    "X = cdata\n",
    "kcv = 5\n",
    "cvd = {}"
   ]
  },
  {
   "cell_type": "code",
   "execution_count": 8,
   "metadata": {
    "collapsed": true
   },
   "outputs": [],
   "source": [
    "X_train, X_test, y_train, y_test = train_test_split(X, Y, test_size=0.3, random_state=42)"
   ]
  },
  {
   "cell_type": "code",
   "execution_count": 9,
   "metadata": {
    "collapsed": false
   },
   "outputs": [],
   "source": [
    "model_rfc = RandomForestClassifier(n_estimators = 200, n_jobs=-1)\n",
    "model_xgb = xgb.XGBClassifier(max_depth=3, n_estimators=300, learning_rate=0.05)"
   ]
  },
  {
   "cell_type": "code",
   "execution_count": 10,
   "metadata": {
    "collapsed": false
   },
   "outputs": [
    {
     "data": {
      "text/plain": [
       "[<matplotlib.lines.Line2D at 0x7f4cadbc6048>,\n",
       " <matplotlib.lines.Line2D at 0x7f4cadbc6208>]"
      ]
     },
     "execution_count": 10,
     "metadata": {},
     "output_type": "execute_result"
    },
    {
     "data": {
      "image/png": "[encoded data removed]",
      "text/plain": [
       "<matplotlib.figure.Figure at 0x7f4ce660d048>"
      ]
     },
     "metadata": {},
     "output_type": "display_data"
    }
   ],
   "source": [
    "scores = cross_validation.cross_val_score(model_rfc, X_train, y_train, cv = kcv)\n",
    "cvd['RandomForestClassifier'] = scores\n",
    "\n",
    "scores = cross_validation.cross_val_score(model_rfc, X_train, y_train, cv = kcv)\n",
    "cvd['XGBClassifier'] = scores\n",
    "\n",
    "plt.plot(range(len(scores)), cvd['RandomForestClassifier'], 'b', range(len(scores)), cvd['XGBClassifier'], 'r')"
   ]
  },
  {
   "cell_type": "code",
   "execution_count": 11,
   "metadata": {
    "collapsed": false
   },
   "outputs": [
    {
     "data": {
      "image/png": "[encoded data removed]",
      "text/plain": [
       "<matplotlib.figure.Figure at 0x7f4cadbecf28>"
      ]
     },
     "metadata": {},
     "output_type": "display_data"
    }
   ],
   "source": [
    "pl.clf()\n",
    "\n",
    "rf_probas = model_rfc.fit(X_train, y_train).predict_proba(X_test)\n",
    "fpr, tpr, thresholds = roc_curve(y_test, rf_probas[:, 1])\n",
    "roc_auc  = auc(fpr, tpr)\n",
    "pl.plot(fpr, tpr, label='%s ROC (area = %0.2f)' % ('RandomForest',roc_auc))\n",
    "\n",
    "gb_probas = model_xgb.fit(X_train, y_train).predict_proba(X_test)\n",
    "fpr, tpr, thresholds = roc_curve(y_test, gb_probas[:, 1])\n",
    "roc_auc  = auc(fpr, tpr)\n",
    "pl.plot(fpr, tpr, label='%s ROC (area = %0.2f)' % ('GradientBoosting',roc_auc))\n",
    "\n",
    "rf_gb_probas = (rf_probas + gb_probas) / 2\n",
    "fpr, tpr, thresholds = roc_curve(y_test, rf_gb_probas[:, 1])\n",
    "roc_auc  = auc(fpr, tpr)\n",
    "pl.plot(fpr, tpr, label='%s ROC (area = %0.2f)' % ('RF + GB',roc_auc))\n",
    "\n",
    "pl.xlabel('False Positive Rate')\n",
    "pl.ylabel('True Positive Rate')\n",
    "pl.legend(loc=0, fontsize='small')\n",
    "pl.show()"
   ]
  },
  {
   "cell_type": "code",
   "execution_count": 12,
   "metadata": {
    "collapsed": false
   },
   "outputs": [],
   "source": [
    "testdata = read_csv('~/kaggle/santander/test.csv')\n",
    "ctestdata = testdata\n",
    "for col in testdata.columns:\n",
    "    if col not in cdata.columns:\n",
    "        ctestdata = ctestdata.drop([col], axis=1)\n",
    "#ctestdata = ctestdata.drop(['ID'], axis=1)\n",
    "\n",
    "#log scaling test samle\n",
    "for col in cols_to_log:\n",
    "    offset = offsets[col]\n",
    "    ctestdata[col] = np.log(cdata[col] + offset) - np.log(offset)"
   ]
  },
  {
   "cell_type": "code",
   "execution_count": 21,
   "metadata": {
    "collapsed": false
   },
   "outputs": [],
   "source": [
    "result = DataFrame(testdata['ID'])\n",
    "result.insert(1,'TARGET', model_xgb.fit(X, Y).predict(ctestdata))\n",
    "result.to_csv('~/ml/kaggle_santander_happy_customers/res_xgb.csv', index=False)\n",
    "\n",
    "result = DataFrame(testdata['ID'])\n",
    "result.insert(1,'TARGET', model_rfc.fit(X, Y).predict(ctestdata))\n",
    "result.to_csv('~/ml/kaggle_santander_happy_customers/res_rf.csv', index=False)\n",
    "\n",
    "result = DataFrame(testdata['ID'])\n",
    "result.insert(1,'TARGET', np.ceil((model_rfc.fit(X, Y).predict(ctestdata) + model_xgb.fit(X, Y).predict(ctestdata)) / 2).astype(np.int32))\n",
    "result.to_csv('~/ml/kaggle_santander_happy_customers/res_xgb_rf.csv', index=False)"
   ]
  },
  {
   "cell_type": "code",
   "execution_count": null,
   "metadata": {
    "collapsed": true
   },
   "outputs": [],
   "source": []
  }
 ],
 "metadata": {
  "kernelspec": {
   "display_name": "Python 3",
   "language": "python",
   "name": "python3"
  },
  "language_info": {
   "codemirror_mode": {
    "name": "ipython",
    "version": 3
   },
   "file_extension": ".py",
   "mimetype": "text/x-python",
   "name": "python",
   "nbconvert_exporter": "python",
   "pygments_lexer": "ipython3",
   "version": "3.5.1"
  }
 },
 "nbformat": 4,
 "nbformat_minor": 0
}
